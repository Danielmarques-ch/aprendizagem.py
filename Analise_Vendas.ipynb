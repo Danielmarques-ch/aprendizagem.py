{
  "nbformat": 4,
  "nbformat_minor": 0,
  "metadata": {
    "colab": {
      "provenance": [],
      "authorship_tag": "ABX9TyMBUWb0VY/QN48dyQMWspUd",
      "include_colab_link": true
    },
    "kernelspec": {
      "name": "python3",
      "display_name": "Python 3"
    },
    "language_info": {
      "name": "python"
    }
  },
  "cells": [
    {
      "cell_type": "markdown",
      "metadata": {
        "id": "view-in-github",
        "colab_type": "text"
      },
      "source": [
        "<a href=\"https://colab.research.google.com/github/Danielmarques-ch/aprendizagem.py/blob/main/Analise_Vendas.ipynb\" target=\"_parent\"><img src=\"https://colab.research.google.com/assets/colab-badge.svg\" alt=\"Open In Colab\"/></a>"
      ]
    },
    {
      "cell_type": "code",
      "execution_count": null,
      "metadata": {
        "colab": {
          "base_uri": "https://localhost:8080/"
        },
        "id": "wRhaWFbX0keo",
        "outputId": "3e504665-7951-4122-b6a4-d8ed4bbd0104"
      },
      "outputs": [
        {
          "output_type": "stream",
          "name": "stdout",
          "text": [
            "Vendas do produto Teclado foram de 270 unidades.\n",
            "Informe o nome do produto:celular\n",
            "Temos 1500 unidades do produto celular em estoque.\n"
          ]
        }
      ],
      "source": [
        "produtos = ['tv', 'celular', 'mouse', 'teclado', 'tablet']\n",
        "vendas = [1000, 1500, 350, 270, 900]\n",
        "nome = (produtos[3])\n",
        "venda = (vendas[3])\n",
        "print('Vendas do produto {} foram de {} unidades.'.format(nome.capitalize(), venda))\n",
        "\n",
        "\n",
        "# Pergunta ao usuário\n",
        "produto = input('Informe o nome do produto:')\n",
        "if produto in produtos:\n",
        "    i = produtos.index(produto)\n",
        "    qtde = vendas[i]\n",
        "    print('Temos {} unidades do produto {} em estoque.'.format(qtde, produto))\n",
        "else:\n",
        "    print('{} não existe no estoque.'.format(produto))"
      ]
    }
  ]
}